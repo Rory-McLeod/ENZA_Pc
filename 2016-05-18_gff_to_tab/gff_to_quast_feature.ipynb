{
 "cells": [
  {
   "cell_type": "markdown",
   "metadata": {},
   "source": [
    "# GFF/GTF to four-column conversion for QUAST"
   ]
  },
  {
   "cell_type": "markdown",
   "metadata": {},
   "source": [
    "Our input data is in non-SO gene model-compliant GTF/GFF. Quast requires `gene`/`operon` features, or a four column tab-separated format with:\n",
    "\n",
    "* `seqname\\tID\\tstart\\tend`\n",
    "\n",
    "which is nice and general, and implies one contiguous region per gene. It avoids many of the incompatibilities between GFF and GTF, and we can interpret the features of interest at the exon and gene levels separately."
   ]
  },
  {
   "cell_type": "markdown",
   "metadata": {},
   "source": [
    "The input data is in `Phyca11_filtered_genes.gff`. We'll read it in with `csv`."
   ]
  },
  {
   "cell_type": "markdown",
   "metadata": {},
   "source": [
    "## Only keeping exons\n",
    "\n",
    "Exons don't have unique IDs in the input file. But, as we don't really care which genes they come from (at the moment) we can assign them unique arbitrary IDs."
   ]
  },
  {
   "cell_type": "code",
   "execution_count": null,
   "metadata": {
    "collapsed": false
   },
   "outputs": [],
   "source": [
    "import csv\n",
    "with open(\"Phyca11_filtered_genes.gff\") as fh:\n",
    "    with open(\"Phyca11_filtered_exons_quast.tab\", \"w\") as outfh:\n",
    "        reader = csv.reader(fh, delimiter='\\t', quotechar='\"')\n",
    "        writer = csv.writer(outfh, delimiter='\\t')\n",
    "        for idx, row in enumerate([row for row in reader\n",
    "                                   if row[2] == 'exon']):\n",
    "            seqname = row[0]\n",
    "            start, end = int(row[3]), int(row[4])\n",
    "            strand = row[6]\n",
    "            if strand == '-':\n",
    "                start, end = end, start\n",
    "            exonid = \"%06d\" % (idx + 1)\n",
    "            writer.writerow([seqname, exonid, start, end])"
   ]
  },
  {
   "cell_type": "markdown",
   "metadata": {
    "collapsed": false
   },
   "source": [
    "## Keeping genes/CDS\n",
    "\n",
    "We can keep a 'gene' from the GFF/GTF file by looking at the contiguous sequence between start and stop codons only (not just the exons).\n",
    "\n",
    "This code makes my teeth itch - we're making *many* assumptions about good behaviour of the input data which are not justified. For instance, `gw1.1.971.1` only has a start codon, not a stop codon in the input file. There may be worse problems.\n",
    "\n",
    "Using start and stop codons may have inaccuracies, but at least we 'know' there's only one start and one stop codon (most of the time). To know how many exons/CDS exist per gene, we would need to read the whole file in first."
   ]
  },
  {
   "cell_type": "code",
   "execution_count": null,
   "metadata": {
    "collapsed": false
   },
   "outputs": [],
   "source": [
    "import csv\n",
    "with open(\"Phyca11_filtered_genes.gff\") as fh:\n",
    "    with open(\"Phyca11_filtered_genes_quast.tab\", \"w\") as outfh:\n",
    "        reader = csv.reader(fh, delimiter='\\t', quotechar='\"')\n",
    "        writer = csv.writer(outfh, delimiter='\\t')\n",
    "        genedict = {}\n",
    "        count = 0\n",
    "        for idx, row in enumerate([row for row in reader\n",
    "                                   if row[2] in ('start_codon',\n",
    "                                                'stop_codon')]):\n",
    "            #print(idx, row)\n",
    "            seqname = row[0]\n",
    "            start, end = int(row[3]), int(row[4])\n",
    "            strand = row[6]\n",
    "            genename = row[8].split(';')[0][5:].replace('\"','')\n",
    "            if genename not in genedict:\n",
    "                genedict[genename] = [start, end]\n",
    "            else:\n",
    "                genedict[genename] += [start, end]\n",
    "                count += 1\n",
    "                geneid = \"%06d\" % count\n",
    "                minval, maxval = min(genedict[genename]), max(genedict[genename])\n",
    "                if strand == '-':\n",
    "                    minval, maxval = maxval, minval\n",
    "                writer.writerow([seqname, geneid, minval, maxval])\n",
    "                #print(seqname, geneid, minval, maxval, strand, genename, genedict[genename])\n",
    "            #if count > 10:\n",
    "            #    break"
   ]
  },
  {
   "cell_type": "code",
   "execution_count": null,
   "metadata": {
    "collapsed": true
   },
   "outputs": [],
   "source": []
  }
 ],
 "metadata": {
  "kernelspec": {
   "display_name": "Python 3",
   "language": "python",
   "name": "python3"
  },
  "language_info": {
   "codemirror_mode": {
    "name": "ipython",
    "version": 3
   },
   "file_extension": ".py",
   "mimetype": "text/x-python",
   "name": "python",
   "nbconvert_exporter": "python",
   "pygments_lexer": "ipython3",
   "version": "3.5.1"
  }
 },
 "nbformat": 4,
 "nbformat_minor": 0
}
